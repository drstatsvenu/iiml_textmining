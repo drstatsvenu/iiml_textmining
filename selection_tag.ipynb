{
 "cells": [
  {
   "cell_type": "code",
   "execution_count": 1,
   "metadata": {
    "collapsed": true
   },
   "outputs": [],
   "source": [
    "import re\n",
    "import pandas as pd"
   ]
  },
  {
   "cell_type": "code",
   "execution_count": 2,
   "metadata": {
    "collapsed": true
   },
   "outputs": [],
   "source": [
    "df = pd.read_table(\"cfp.tsv\")"
   ]
  },
  {
   "cell_type": "code",
   "execution_count": 3,
   "metadata": {
    "collapsed": false
   },
   "outputs": [
    {
     "data": {
      "text/html": [
       "<div>\n",
       "<table border=\"1\" class=\"dataframe\">\n",
       "  <thead>\n",
       "    <tr style=\"text-align: right;\">\n",
       "      <th></th>\n",
       "      <th>title</th>\n",
       "      <th>content_urls</th>\n",
       "      <th>description</th>\n",
       "      <th>last_updated</th>\n",
       "      <th>n_comments</th>\n",
       "      <th>n_votes</th>\n",
       "      <th>prerequisites</th>\n",
       "      <th>section</th>\n",
       "      <th>speaker_info</th>\n",
       "      <th>speaker_links</th>\n",
       "      <th>target_audience</th>\n",
       "      <th>type</th>\n",
       "      <th>year</th>\n",
       "    </tr>\n",
       "  </thead>\n",
       "  <tbody>\n",
       "    <tr>\n",
       "      <th>0</th>\n",
       "      <td>Make your own Packet Sniffer</td>\n",
       "      <td>GitHub</td>\n",
       "      <td>A Sniffer is a computer program or a piece of ...</td>\n",
       "      <td>29 May, 2015</td>\n",
       "      <td>0</td>\n",
       "      <td>8</td>\n",
       "      <td>NaN</td>\n",
       "      <td>Network Programming</td>\n",
       "      <td>NaN</td>\n",
       "      <td>GitHub</td>\n",
       "      <td>Intermediate</td>\n",
       "      <td>Workshops</td>\n",
       "      <td>2015</td>\n",
       "    </tr>\n",
       "    <tr>\n",
       "      <th>1</th>\n",
       "      <td>Building NextGen IoT solutions using Python an...</td>\n",
       "      <td>Draft of the PowerPoint\\n[work in progress]</td>\n",
       "      <td>In this topic, we will use Raspberry Pi B+ run...</td>\n",
       "      <td>11 Sep, 2015</td>\n",
       "      <td>0</td>\n",
       "      <td>13</td>\n",
       "      <td>Basic Knowledge about Communication Protocols ...</td>\n",
       "      <td>Embedded Python</td>\n",
       "      <td>Abhishek Narain – Technical Evangelist, Micros...</td>\n",
       "      <td>Abhishek Narain - https://twitter.com/narainab...</td>\n",
       "      <td>Beginner</td>\n",
       "      <td>Talks</td>\n",
       "      <td>2015</td>\n",
       "    </tr>\n",
       "    <tr>\n",
       "      <th>2</th>\n",
       "      <td>Integrating Django with Centralised Identity M...</td>\n",
       "      <td>http://www.freeipa.org/page/Web_App_Authentica...</td>\n",
       "      <td>Most Django developers are familiar with authe...</td>\n",
       "      <td>29 May, 2015</td>\n",
       "      <td>0</td>\n",
       "      <td>1</td>\n",
       "      <td>Attendees should have a passing familiarity wi...</td>\n",
       "      <td>Security</td>\n",
       "      <td>Fraser works at Red Hat on the FreeIPA central...</td>\n",
       "      <td>NaN</td>\n",
       "      <td>Beginner</td>\n",
       "      <td>Talks</td>\n",
       "      <td>2015</td>\n",
       "    </tr>\n",
       "    <tr>\n",
       "      <th>3</th>\n",
       "      <td>An introduction to Computer Vision using OpenC...</td>\n",
       "      <td>Code:</td>\n",
       "      <td>Computer Vision is the process of extracting r...</td>\n",
       "      <td>10 Jun, 2015</td>\n",
       "      <td>0</td>\n",
       "      <td>1</td>\n",
       "      <td>NaN</td>\n",
       "      <td>Scientific Computing</td>\n",
       "      <td>I am a second year student of BMS College of E...</td>\n",
       "      <td>GitHub : https://github.com/Specas</td>\n",
       "      <td>Beginner</td>\n",
       "      <td>Talks</td>\n",
       "      <td>2015</td>\n",
       "    </tr>\n",
       "    <tr>\n",
       "      <th>4</th>\n",
       "      <td>Behavior-driven development | Web Testing auto...</td>\n",
       "      <td>NaN</td>\n",
       "      <td>Many of us work for startups. And as the web a...</td>\n",
       "      <td>30 May, 2015</td>\n",
       "      <td>0</td>\n",
       "      <td>0</td>\n",
       "      <td>NaN</td>\n",
       "      <td>Testing</td>\n",
       "      <td>Shekhar &lt;3 building products using open source...</td>\n",
       "      <td>He maintains few open source project and contr...</td>\n",
       "      <td>Intermediate</td>\n",
       "      <td>Workshops</td>\n",
       "      <td>2015</td>\n",
       "    </tr>\n",
       "  </tbody>\n",
       "</table>\n",
       "</div>"
      ],
      "text/plain": [
       "                                               title  \\\n",
       "0                       Make your own Packet Sniffer   \n",
       "1  Building NextGen IoT solutions using Python an...   \n",
       "2  Integrating Django with Centralised Identity M...   \n",
       "3  An introduction to Computer Vision using OpenC...   \n",
       "4  Behavior-driven development | Web Testing auto...   \n",
       "\n",
       "                                        content_urls  \\\n",
       "0                                             GitHub   \n",
       "1        Draft of the PowerPoint\\n[work in progress]   \n",
       "2  http://www.freeipa.org/page/Web_App_Authentica...   \n",
       "3                                              Code:   \n",
       "4                                                NaN   \n",
       "\n",
       "                                         description  last_updated  \\\n",
       "0  A Sniffer is a computer program or a piece of ...  29 May, 2015   \n",
       "1  In this topic, we will use Raspberry Pi B+ run...  11 Sep, 2015   \n",
       "2  Most Django developers are familiar with authe...  29 May, 2015   \n",
       "3  Computer Vision is the process of extracting r...  10 Jun, 2015   \n",
       "4  Many of us work for startups. And as the web a...  30 May, 2015   \n",
       "\n",
       "   n_comments  n_votes                                      prerequisites  \\\n",
       "0           0        8                                                NaN   \n",
       "1           0       13  Basic Knowledge about Communication Protocols ...   \n",
       "2           0        1  Attendees should have a passing familiarity wi...   \n",
       "3           0        1                                                NaN   \n",
       "4           0        0                                                NaN   \n",
       "\n",
       "                section                                       speaker_info  \\\n",
       "0   Network Programming                                                NaN   \n",
       "1       Embedded Python  Abhishek Narain – Technical Evangelist, Micros...   \n",
       "2              Security  Fraser works at Red Hat on the FreeIPA central...   \n",
       "3  Scientific Computing  I am a second year student of BMS College of E...   \n",
       "4               Testing  Shekhar <3 building products using open source...   \n",
       "\n",
       "                                       speaker_links target_audience  \\\n",
       "0                                             GitHub    Intermediate   \n",
       "1  Abhishek Narain - https://twitter.com/narainab...        Beginner   \n",
       "2                                                NaN        Beginner   \n",
       "3                 GitHub : https://github.com/Specas        Beginner   \n",
       "4  He maintains few open source project and contr...    Intermediate   \n",
       "\n",
       "        type  year  \n",
       "0  Workshops  2015  \n",
       "1      Talks  2015  \n",
       "2      Talks  2015  \n",
       "3      Talks  2015  \n",
       "4  Workshops  2015  "
      ]
     },
     "execution_count": 3,
     "metadata": {},
     "output_type": "execute_result"
    }
   ],
   "source": [
    "df.head()"
   ]
  },
  {
   "cell_type": "code",
   "execution_count": 4,
   "metadata": {
    "collapsed": true
   },
   "outputs": [],
   "source": [
    "sel_2015 = {\n",
    "    \"talks\": \"\"\"\n",
    "        simple hacks to make your django website faster\n",
    "        pretty printing in python\n",
    "        machine learning techniques for building a large scale\n",
    "        laying out your django projects\n",
    "        python and riakdb\n",
    "        building flexible filesystems with fuse-python\n",
    "        symengine: the future fast core of computer algebra systems\n",
    "        test driven development with ansible\n",
    "        explore big data using simple python code\n",
    "        introduction to nipype and how do we create\n",
    "        python load balancer: 0 to 1 million requests per second\n",
    "        creating, deployment & customizing\n",
    "        building nextgen iot solutions\n",
    "        consuming government data with python and d3\n",
    "        python traceback for humans\n",
    "        how to build microservices using zeromq and wsgi\n",
    "        rip nagios. hello docker shinken\n",
    "        building offensive web security framework in python\n",
    "        how to detect phishing urls using pyspark decision trees\n",
    "        fedmsg: the message bus of fedora infrastructure\n",
    "        concurrent data processing in python\n",
    "        analyzing arguments during a debate using natural language processing\n",
    "        avoiding common pitfalls of datetime from a webapp\n",
    "        python 2 metaprogramming, macros, madness & more\n",
    "        rest apis - what, why and how\n",
    "        solving logical puzzles with natural language processing\n",
    "\"\"\",\n",
    "    \"workshops\": \"\"\"\n",
    "        getting started with ansible\n",
    "        let's learn statistics\n",
    "        using devstack to contribute to openstack\n",
    "        building nextgen iot solutions using python and cloud\n",
    "        reasoning under uncertainty with python\n",
    "        python on your mobile phone(advanced concepts)\n",
    "        django projects the right way\n",
    "        symbolic computation with python, sympy\n",
    "        thinking in functions\n",
    "        \"\"\"\n",
    "    }"
   ]
  },
  {
   "cell_type": "code",
   "execution_count": 15,
   "metadata": {
    "collapsed": true
   },
   "outputs": [],
   "source": [
    "sel_2016 = {\n",
    "    \"talks\": \"\"\"\n",
    "        hacking the python ast\n",
    "        helix and salt: case study in high volume and distributed python applications\n",
    "        realtime microservices with server side flux\n",
    "        building an automatic keyphrase extraction system using nltk\n",
    "        testing native binaries using cffi and py.test\n",
    "        the trends in choosing licenses in python ecosystem\n",
    "        good bye, call stack; hello, event driven architectures\n",
    "        algorithmic music generation\n",
    "        python byte code hacks\n",
    "        load testing using locust.io\n",
    "        continuous integration for data scientists\n",
    "        building companion chatbot with python\n",
    "        deploying your python backend with\n",
    "        big data analysis using pyspark\n",
    "        flying a drone\n",
    "        containerize upstream projects effortlessly\n",
    "        financial modelling and simulation with python\n",
    "        micropython - porting python to microcontrollers\n",
    "        creating a recommendation engine based on nlp and contextual\n",
    "        open source health monitoring and evaluation systems\n",
    "        concurrency in modern robots\n",
    "        building a secure iot platform using paho and flask\n",
    "        don't write tests, generate them\n",
    "        real time sentiment analysis with apache storm and python\n",
    "    \"\"\",\n",
    "    \"workshops\": \"\"\"\n",
    "        building a lie detector: multi-modal sentiment analysis\n",
    "        docker workshop\n",
    "        optimizing neural networks with theano\n",
    "        productive coding with pycharm\n",
    "        demystifying the django rest framework\n",
    "        scaling django with kubernetes\n",
    "    \"\"\"\n",
    "}"
   ]
  },
  {
   "cell_type": "code",
   "execution_count": 16,
   "metadata": {
    "collapsed": true
   },
   "outputs": [],
   "source": [
    "df['proposal_type'] = \"\""
   ]
  },
  {
   "cell_type": "code",
   "execution_count": 17,
   "metadata": {
    "collapsed": true
   },
   "outputs": [],
   "source": [
    "df['selected'] = False"
   ]
  },
  {
   "cell_type": "code",
   "execution_count": 18,
   "metadata": {
    "collapsed": false
   },
   "outputs": [
    {
     "name": "stderr",
     "output_type": "stream",
     "text": [
      "/Users/jaidevd/anaconda/lib/python3.5/site-packages/ipykernel/__main__.py:5: UserWarning: Boolean Series key will be reindexed to match DataFrame index.\n"
     ]
    }
   ],
   "source": [
    "for proposal_type, proposals in sel_2016.items():\n",
    "    proposals = [p.lstrip().rstrip() for p in proposals.splitlines()]\n",
    "    proposals = [p for p in proposals if p]\n",
    "    for proposal in proposals:\n",
    "        rel_ix = df[df.title.str.contains(proposal, case=False)][df.year == 2016].index\n",
    "        if rel_ix.shape[0] != 1:\n",
    "            print(proposal)\n",
    "        else:\n",
    "            df.loc[rel_ix[0], \"selected\"] = True\n",
    "            df.loc[rel_ix[0], \"proposal_type\"] = proposal_type"
   ]
  },
  {
   "cell_type": "code",
   "execution_count": 19,
   "metadata": {
    "collapsed": false
   },
   "outputs": [
    {
     "data": {
      "text/plain": [
       "False    260\n",
       "True      30\n",
       "Name: selected, dtype: int64"
      ]
     },
     "execution_count": 19,
     "metadata": {},
     "output_type": "execute_result"
    }
   ],
   "source": [
    "df.selected.value_counts()"
   ]
  },
  {
   "cell_type": "code",
   "execution_count": 20,
   "metadata": {
    "collapsed": true
   },
   "outputs": [],
   "source": [
    "df.to_csv(\"tagged.tsv\", sep=\"\\t\", index=False)"
   ]
  }
 ],
 "metadata": {
  "anaconda-cloud": {},
  "kernelspec": {
   "display_name": "Python [default]",
   "language": "python",
   "name": "python3"
  },
  "language_info": {
   "codemirror_mode": {
    "name": "ipython",
    "version": 3
   },
   "file_extension": ".py",
   "mimetype": "text/x-python",
   "name": "python",
   "nbconvert_exporter": "python",
   "pygments_lexer": "ipython3",
   "version": "3.5.2"
  }
 },
 "nbformat": 4,
 "nbformat_minor": 0
}
