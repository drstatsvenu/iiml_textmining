{
 "cells": [
  {
   "cell_type": "code",
   "execution_count": 1,
   "metadata": {
    "collapsed": true
   },
   "outputs": [],
   "source": [
    "import re\n",
    "import pandas as pd"
   ]
  },
  {
   "cell_type": "code",
   "execution_count": 2,
   "metadata": {
    "collapsed": true
   },
   "outputs": [],
   "source": [
    "df = pd.read_table(\"cfp.tsv\")"
   ]
  },
  {
   "cell_type": "code",
   "execution_count": 3,
   "metadata": {
    "collapsed": false
   },
   "outputs": [
    {
     "data": {
      "text/html": [
       "<div>\n",
       "<table border=\"1\" class=\"dataframe\">\n",
       "  <thead>\n",
       "    <tr style=\"text-align: right;\">\n",
       "      <th></th>\n",
       "      <th>title</th>\n",
       "      <th>n_votes</th>\n",
       "      <th>n_comments</th>\n",
       "      <th>year</th>\n",
       "      <th>speaker_info</th>\n",
       "      <th>prerequisites</th>\n",
       "      <th>content_urls</th>\n",
       "      <th>description</th>\n",
       "      <th>last_updated</th>\n",
       "      <th>speaker_links</th>\n",
       "      <th>section</th>\n",
       "      <th>target_audience</th>\n",
       "      <th>type</th>\n",
       "    </tr>\n",
       "  </thead>\n",
       "  <tbody>\n",
       "    <tr>\n",
       "      <th>0</th>\n",
       "      <td>Real-time processing of high-velocity social m...</td>\n",
       "      <td>19</td>\n",
       "      <td>3</td>\n",
       "      <td>2015</td>\n",
       "      <td>I am Sarthak, backend engineer with Airwoot. I...</td>\n",
       "      <td>There isn't much in terms of pre-requisites, b...</td>\n",
       "      <td>I don't have slides currently but would put th...</td>\n",
       "      <td>For real-time analytics, processing data faste...</td>\n",
       "      <td>14 May, 2015</td>\n",
       "      <td>You can find me here on Github and Twitter.</td>\n",
       "      <td>Data Visualization and Analytics</td>\n",
       "      <td>Intermediate</td>\n",
       "      <td>Talks</td>\n",
       "    </tr>\n",
       "    <tr>\n",
       "      <th>1</th>\n",
       "      <td>Bayesian Learning using Python</td>\n",
       "      <td>31</td>\n",
       "      <td>0</td>\n",
       "      <td>2015</td>\n",
       "      <td>Abinash Panda is an undergraduate from IIT (BH...</td>\n",
       "      <td>NaN</td>\n",
       "      <td>NaN</td>\n",
       "      <td>Introduction to SciPy stackIntroduction to Pro...</td>\n",
       "      <td>14 Jul, 2015</td>\n",
       "      <td>github:twitter</td>\n",
       "      <td>Scientific Computing</td>\n",
       "      <td>Intermediate</td>\n",
       "      <td>Workshops</td>\n",
       "    </tr>\n",
       "    <tr>\n",
       "      <th>2</th>\n",
       "      <td>Natural Language processing in Python with NLTK</td>\n",
       "      <td>18</td>\n",
       "      <td>0</td>\n",
       "      <td>2015</td>\n",
       "      <td>Anirudh K Menon, a computer Science Engineer f...</td>\n",
       "      <td>Basics of python.</td>\n",
       "      <td>NLTK package : http://www.nltk.org/\\nDraft ppt...</td>\n",
       "      <td>What is Natural Language Processing(NLP)?  How...</td>\n",
       "      <td>05 Jun, 2016</td>\n",
       "      <td>NaN</td>\n",
       "      <td>Data Visualization and Analytics</td>\n",
       "      <td>Beginner</td>\n",
       "      <td>Talks</td>\n",
       "    </tr>\n",
       "    <tr>\n",
       "      <th>3</th>\n",
       "      <td>Building flexible filesystems with FUSE-Python</td>\n",
       "      <td>2</td>\n",
       "      <td>1</td>\n",
       "      <td>2015</td>\n",
       "      <td>Anurag works with Red Hat at their Pune office...</td>\n",
       "      <td>NaN</td>\n",
       "      <td>FUSE: http://fuse.sourceforge.netFUSE Python r...</td>\n",
       "      <td>FUSE is a powerful library to implement a full...</td>\n",
       "      <td>11 Sep, 2015</td>\n",
       "      <td>https://github.com/gnuraghttp://www.slideshare...</td>\n",
       "      <td>Infrastructure</td>\n",
       "      <td>Beginner</td>\n",
       "      <td>Talks</td>\n",
       "    </tr>\n",
       "    <tr>\n",
       "      <th>4</th>\n",
       "      <td>Python bindings to a distributed filesystem</td>\n",
       "      <td>7</td>\n",
       "      <td>0</td>\n",
       "      <td>2015</td>\n",
       "      <td>Humble Chirammal works as Senior Software Engi...</td>\n",
       "      <td>NaN</td>\n",
       "      <td>Good to know:</td>\n",
       "      <td>GlusterFS is a distributed file system capable...</td>\n",
       "      <td>15 Jun, 2015</td>\n",
       "      <td>NaN</td>\n",
       "      <td>Others</td>\n",
       "      <td>Intermediate</td>\n",
       "      <td>Talks</td>\n",
       "    </tr>\n",
       "  </tbody>\n",
       "</table>\n",
       "</div>"
      ],
      "text/plain": [
       "                                               title  n_votes  n_comments  \\\n",
       "0  Real-time processing of high-velocity social m...       19           3   \n",
       "1                     Bayesian Learning using Python       31           0   \n",
       "2    Natural Language processing in Python with NLTK       18           0   \n",
       "3     Building flexible filesystems with FUSE-Python        2           1   \n",
       "4        Python bindings to a distributed filesystem        7           0   \n",
       "\n",
       "   year                                       speaker_info  \\\n",
       "0  2015  I am Sarthak, backend engineer with Airwoot. I...   \n",
       "1  2015  Abinash Panda is an undergraduate from IIT (BH...   \n",
       "2  2015  Anirudh K Menon, a computer Science Engineer f...   \n",
       "3  2015  Anurag works with Red Hat at their Pune office...   \n",
       "4  2015  Humble Chirammal works as Senior Software Engi...   \n",
       "\n",
       "                                       prerequisites  \\\n",
       "0  There isn't much in terms of pre-requisites, b...   \n",
       "1                                                NaN   \n",
       "2                                  Basics of python.   \n",
       "3                                                NaN   \n",
       "4                                                NaN   \n",
       "\n",
       "                                        content_urls  \\\n",
       "0  I don't have slides currently but would put th...   \n",
       "1                                                NaN   \n",
       "2  NLTK package : http://www.nltk.org/\\nDraft ppt...   \n",
       "3  FUSE: http://fuse.sourceforge.netFUSE Python r...   \n",
       "4                                      Good to know:   \n",
       "\n",
       "                                         description  last_updated  \\\n",
       "0  For real-time analytics, processing data faste...  14 May, 2015   \n",
       "1  Introduction to SciPy stackIntroduction to Pro...  14 Jul, 2015   \n",
       "2  What is Natural Language Processing(NLP)?  How...  05 Jun, 2016   \n",
       "3  FUSE is a powerful library to implement a full...  11 Sep, 2015   \n",
       "4  GlusterFS is a distributed file system capable...  15 Jun, 2015   \n",
       "\n",
       "                                       speaker_links  \\\n",
       "0        You can find me here on Github and Twitter.   \n",
       "1                                     github:twitter   \n",
       "2                                                NaN   \n",
       "3  https://github.com/gnuraghttp://www.slideshare...   \n",
       "4                                                NaN   \n",
       "\n",
       "                            section target_audience       type  \n",
       "0  Data Visualization and Analytics    Intermediate      Talks  \n",
       "1              Scientific Computing    Intermediate  Workshops  \n",
       "2  Data Visualization and Analytics        Beginner      Talks  \n",
       "3                    Infrastructure        Beginner      Talks  \n",
       "4                            Others    Intermediate      Talks  "
      ]
     },
     "execution_count": 3,
     "metadata": {},
     "output_type": "execute_result"
    }
   ],
   "source": [
    "df.head()"
   ]
  },
  {
   "cell_type": "code",
   "execution_count": 4,
   "metadata": {
    "collapsed": true
   },
   "outputs": [],
   "source": [
    "sel_2015 = {\n",
    "    \"talks\": \"\"\"\n",
    "        simple hacks to make your django website faster\n",
    "        pretty printing in python\n",
    "        machine learning techniques for building a large scale\n",
    "        laying out your django projects\n",
    "        python and riakdb\n",
    "        building flexible filesystems with fuse-python\n",
    "        symengine: the future fast core of computer algebra systems\n",
    "        test driven development with ansible\n",
    "        explore big data using simple python code\n",
    "        introduction to nipype and how do we create\n",
    "        python load balancer: 0 to 1 million requests per second\n",
    "        creating, deployment & customizing\n",
    "        building nextgen iot solutions\n",
    "        consuming government data with python and d3\n",
    "        python traceback for humans\n",
    "        how to build microservices using zeromq and wsgi\n",
    "        rip nagios. hello docker shinken\n",
    "        building offensive web security framework in python\n",
    "        how to detect phishing urls using pyspark decision trees\n",
    "        fedmsg: the message bus of fedora infrastructure\n",
    "        concurrent data processing in python\n",
    "        analyzing arguments during a debate using natural language processing\n",
    "        avoiding common pitfalls of datetime from a webapp\n",
    "        python 2 metaprogramming, macros, madness & more\n",
    "        rest apis - what, why and how\n",
    "        solving logical puzzles with natural language processing\n",
    "\"\"\",\n",
    "    \"workshops\": \"\"\"\n",
    "        getting started with ansible\n",
    "        let's learn statistics\n",
    "        using devstack to contribute to openstack\n",
    "        building nextgen iot solutions using python and cloud\n",
    "        reasoning under uncertainty with python\n",
    "        python on your mobile phone(advanced concepts)\n",
    "        django projects the right way\n",
    "        symbolic computation with python, sympy\n",
    "        thinking in functions\n",
    "        \"\"\"\n",
    "    }"
   ]
  },
  {
   "cell_type": "code",
   "execution_count": 5,
   "metadata": {
    "collapsed": true
   },
   "outputs": [],
   "source": [
    "sel_2016 = {\n",
    "    \"talks\": \"\"\"\n",
    "        hacking the python ast\n",
    "        helix and salt: case study in high volume and distributed python applications\n",
    "        realtime microservices with server side flux\n",
    "        building an automatic keyphrase extraction system using nltk\n",
    "        testing native binaries using cffi and py.test\n",
    "        the trends in choosing licenses in python ecosystems\n",
    "        good bye, call stack; hello, event driven architectures\n",
    "        algorithmic music generation\n",
    "        python byte code hacks\n",
    "        load testing using locust.io\n",
    "        continuous integration for data scientists\n",
    "        building companion chatbot with python\n",
    "        deploying your python backend with\n",
    "        big data analysis using pyspark\n",
    "        flying a drone\n",
    "        containerize upstream projects effortlessly\n",
    "        financial modelling and simulation with python\n",
    "        micropython - porting python to microcontrollers\n",
    "        creating a recommendation engine based on nlp and contextual\n",
    "        open source health monitoring and evaluation systems\n",
    "        concurrency in modern robots\n",
    "        building a secure iot platform using paho and flask\n",
    "        don't write tests, generate them\n",
    "        real time sentiment analysis with apache storm and python\n",
    "    \"\"\",\n",
    "    \"workshops\": \"\"\"\n",
    "        building a lie detector: multi-modal sentiment analysis\n",
    "        docker workshop\n",
    "        talking to machines: optimizing neural networks with theano\n",
    "        productive coding with pycharm\n",
    "        demystifying the django rest framework\n",
    "        scaling django with kubernetes\n",
    "    \"\"\"\n",
    "}"
   ]
  },
  {
   "cell_type": "code",
   "execution_count": 6,
   "metadata": {
    "collapsed": true
   },
   "outputs": [],
   "source": [
    "df['proposal_type'] = \"\""
   ]
  },
  {
   "cell_type": "code",
   "execution_count": 7,
   "metadata": {
    "collapsed": true
   },
   "outputs": [],
   "source": [
    "df['selected'] = False"
   ]
  },
  {
   "cell_type": "code",
   "execution_count": 10,
   "metadata": {
    "collapsed": false
   },
   "outputs": [
    {
     "name": "stderr",
     "output_type": "stream",
     "text": [
      "/Users/jaidevd/anaconda/lib/python3.5/site-packages/ipykernel/__main__.py:5: UserWarning: Boolean Series key will be reindexed to match DataFrame index.\n"
     ]
    },
    {
     "name": "stdout",
     "output_type": "stream",
     "text": [
      "talking to machines: optimizing neural networks with theano\n",
      "the trends in choosing licenses in python ecosystems\n"
     ]
    }
   ],
   "source": [
    "for proposal_type, proposals in sel_2016.items():\n",
    "    proposals = [p.lstrip().rstrip() for p in proposals.splitlines()]\n",
    "    proposals = [p for p in proposals if p]\n",
    "    for proposal in proposals:\n",
    "        rel_ix = df[df.title.str.contains(proposal, case=False)][df.year == 2016].index\n",
    "        if rel_ix.shape[0] != 1:\n",
    "            print(proposal)\n",
    "        else:\n",
    "            df.loc[rel_ix[0], \"selected\"] = True\n",
    "            df.loc[rel_ix[0], \"proposal_type\"] = proposal_type"
   ]
  },
  {
   "cell_type": "code",
   "execution_count": 14,
   "metadata": {
    "collapsed": false
   },
   "outputs": [
    {
     "data": {
      "text/html": [
       "<div>\n",
       "<table border=\"1\" class=\"dataframe\">\n",
       "  <thead>\n",
       "    <tr style=\"text-align: right;\">\n",
       "      <th></th>\n",
       "      <th>title</th>\n",
       "      <th>n_votes</th>\n",
       "      <th>n_comments</th>\n",
       "      <th>year</th>\n",
       "      <th>speaker_info</th>\n",
       "      <th>prerequisites</th>\n",
       "      <th>content_urls</th>\n",
       "      <th>description</th>\n",
       "      <th>last_updated</th>\n",
       "      <th>speaker_links</th>\n",
       "      <th>section</th>\n",
       "      <th>target_audience</th>\n",
       "      <th>type</th>\n",
       "      <th>proposal_type</th>\n",
       "      <th>selected</th>\n",
       "    </tr>\n",
       "  </thead>\n",
       "  <tbody>\n",
       "    <tr>\n",
       "      <th>134</th>\n",
       "      <td>The trends in choosing licenses in Python ecos...</td>\n",
       "      <td>4</td>\n",
       "      <td>0</td>\n",
       "      <td>2016</td>\n",
       "      <td>Anwesha Das, an Advocate practicing law for 6 ...</td>\n",
       "      <td>Actually none. This talk intends to give a ver...</td>\n",
       "      <td>NaN</td>\n",
       "      <td>The software licenses are the permissions over...</td>\n",
       "      <td>11 Aug, 2016</td>\n",
       "      <td>NaN</td>\n",
       "      <td>Others</td>\n",
       "      <td>Beginner</td>\n",
       "      <td>Talks</td>\n",
       "      <td></td>\n",
       "      <td>False</td>\n",
       "    </tr>\n",
       "  </tbody>\n",
       "</table>\n",
       "</div>"
      ],
      "text/plain": [
       "                                                 title  n_votes  n_comments  \\\n",
       "134  The trends in choosing licenses in Python ecos...        4           0   \n",
       "\n",
       "     year                                       speaker_info  \\\n",
       "134  2016  Anwesha Das, an Advocate practicing law for 6 ...   \n",
       "\n",
       "                                         prerequisites content_urls  \\\n",
       "134  Actually none. This talk intends to give a ver...          NaN   \n",
       "\n",
       "                                           description  last_updated  \\\n",
       "134  The software licenses are the permissions over...  11 Aug, 2016   \n",
       "\n",
       "    speaker_links section target_audience   type proposal_type selected  \n",
       "134           NaN  Others        Beginner  Talks                  False  "
      ]
     },
     "execution_count": 14,
     "metadata": {},
     "output_type": "execute_result"
    }
   ],
   "source": [
    "df[df.title.str.contains('licenses', case=False)]"
   ]
  },
  {
   "cell_type": "code",
   "execution_count": 15,
   "metadata": {
    "collapsed": true
   },
   "outputs": [],
   "source": [
    "df.loc[134, \"selected\"] = True"
   ]
  },
  {
   "cell_type": "code",
   "execution_count": 16,
   "metadata": {
    "collapsed": false
   },
   "outputs": [
    {
     "data": {
      "text/plain": [
       "False    260\n",
       "True      30\n",
       "Name: selected, dtype: int64"
      ]
     },
     "execution_count": 16,
     "metadata": {},
     "output_type": "execute_result"
    }
   ],
   "source": [
    "df.selected.value_counts()"
   ]
  },
  {
   "cell_type": "code",
   "execution_count": 17,
   "metadata": {
    "collapsed": true
   },
   "outputs": [],
   "source": [
    "df.to_csv(\"tagged.tsv\", sep=\"\\t\", index=False)"
   ]
  }
 ],
 "metadata": {
  "anaconda-cloud": {},
  "kernelspec": {
   "display_name": "Python [default]",
   "language": "python",
   "name": "python3"
  },
  "language_info": {
   "codemirror_mode": {
    "name": "ipython",
    "version": 3
   },
   "file_extension": ".py",
   "mimetype": "text/x-python",
   "name": "python",
   "nbconvert_exporter": "python",
   "pygments_lexer": "ipython3",
   "version": "3.5.2"
  }
 },
 "nbformat": 4,
 "nbformat_minor": 0
}
