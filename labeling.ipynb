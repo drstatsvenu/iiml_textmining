{
 "cells": [
  {
   "cell_type": "code",
   "execution_count": null,
   "metadata": {
    "collapsed": true
   },
   "outputs": [],
   "source": [
    "import pandas as pd"
   ]
  },
  {
   "cell_type": "code",
   "execution_count": null,
   "metadata": {
    "collapsed": false
   },
   "outputs": [],
   "source": [
    "df = pd.read_table(\"cfp.tsv\")\n",
    "df['selected'] = False"
   ]
  },
  {
   "cell_type": "code",
   "execution_count": null,
   "metadata": {
    "collapsed": false
   },
   "outputs": [],
   "source": [
    "sel_2015 = {\n",
    "    \"talks\": \"\"\"\n",
    "        simple hacks to make your django website faster\n",
    "        pretty printing in python\n",
    "        machine learning techniques for building a large scale\n",
    "        laying out your django projects\n",
    "        python and riak\n",
    "        building flexible filesystems with fuse-python\n",
    "        symengine: the future fast core of computer algebra systems\n",
    "        test driven development with ansible\n",
    "        explore big data using simple python code\n",
    "        introduction to nipype and how do we create\n",
    "        python load balancer: 0 to 1 million requests per second\n",
    "        creating, deployment & customizing\n",
    "        building nextgen iot solutions\n",
    "        consuming government data with python and d3\n",
    "        python traceback for humans\n",
    "        how to build microservices using zeromq and wsgi\n",
    "        rip nagios. hello docker shinken\n",
    "        building offensive web security framework in python\n",
    "        how to detect phishing urls using pyspark decision trees\n",
    "        fedmsg: the message bus of fedora infrastructure\n",
    "        concurrent data processing in python\n",
    "        analyzing arguments during a debate using natural language processing\n",
    "        avoiding common pitfalls of datetime from a webapp\n",
    "        python 3 metaprogramming\n",
    "        rest apis - what, why and how\n",
    "        solving logical puzzles with natural language processing\n",
    "\"\"\",\n",
    "    \"workshops\": \"\"\"\n",
    "        getting started with ansible\n",
    "        let's learn statistics\n",
    "        using devstack to contribute to openstack\n",
    "        building nextgen iot solutions using python and cloud\n",
    "        reasoning under uncertainty with python\n",
    "        python on your mobile phone(advanced concepts)\n",
    "        django projects the right way\n",
    "        symbolic computation with python, sympy\n",
    "        thinking in functions\n",
    "        \"\"\"\n",
    "    }"
   ]
  },
  {
   "cell_type": "code",
   "execution_count": null,
   "metadata": {
    "collapsed": true
   },
   "outputs": [],
   "source": [
    "sel_2016 = {\n",
    "    \"talks\": \"\"\"\n",
    "        hacking the python ast\n",
    "        helix and salt: case study in high volume and distributed python applications\n",
    "        realtime microservices with server side flux\n",
    "        building an automatic keyphrase extraction system using nltk\n",
    "        testing native binaries using cffi and py.test\n",
    "        the trends in choosing licenses in python ecosystem\n",
    "        good bye, call stack; hello, event driven architectures\n",
    "        algorithmic music generation\n",
    "        python byte code hacks\n",
    "        load testing using locust.io\n",
    "        continuous integration for data scientists\n",
    "        building companion chatbot with python\n",
    "        deploying your python backend with\n",
    "        big data analysis using pyspark\n",
    "        flying a drone\n",
    "        containerize upstream projects effortlessly\n",
    "        financial modelling and simulation with python\n",
    "        micropython - porting python to microcontrollers\n",
    "        creating a recommendation engine based on nlp and contextual\n",
    "        open source health monitoring and evaluation systems\n",
    "        concurrency in modern robots\n",
    "        building a secure iot platform using paho and flask\n",
    "        don't write tests, generate them\n",
    "        real time sentiment analysis with apache storm and python\n",
    "    \"\"\",\n",
    "    \"workshops\": \"\"\"\n",
    "        building a lie detector: multi-modal sentiment analysis\n",
    "        docker workshop\n",
    "        optimizing neural networks with theano\n",
    "        productive coding with pycharm\n",
    "        demystifying the django rest framework\n",
    "        scaling django with kubernetes\n",
    "    \"\"\"\n",
    "}"
   ]
  },
  {
   "cell_type": "code",
   "execution_count": null,
   "metadata": {
    "collapsed": false
   },
   "outputs": [],
   "source": [
    "# 2016\n",
    "for prop_type, title in sel_2016.items():\n",
    "    titles = title.splitlines()\n",
    "    titles = [t.lstrip().rstrip() for t in titles]\n",
    "    titles = [t for t in titles if t]\n",
    "    for tl in titles:\n",
    "        xdf = df[df.title.str.contains(tl, case=False)]\n",
    "        if xdf.shape[0] != 1:\n",
    "            print(tl)\n",
    "        else:\n",
    "            df.loc[xdf.index[0], \"selected\"] = True"
   ]
  },
  {
   "cell_type": "code",
   "execution_count": null,
   "metadata": {
    "collapsed": false
   },
   "outputs": [],
   "source": [
    "# 2015\n",
    "for prop_type, title in sel_2015.items():\n",
    "    titles = title.splitlines()\n",
    "    titles = [t.lstrip().rstrip() for t in titles]\n",
    "    titles = [t for t in titles if t]\n",
    "    for tl in titles:\n",
    "        xdf = df[df.title.str.contains(tl, case=False)]\n",
    "        if xdf.shape[0] != 1:\n",
    "            if xdf.shape[0] > 1:\n",
    "                xdf = xdf[xdf['type'] == \"Workshops\"]\n",
    "        else:\n",
    "            df.loc[xdf.index[0], \"selected\"] = True"
   ]
  },
  {
   "cell_type": "code",
   "execution_count": null,
   "metadata": {
    "collapsed": false
   },
   "outputs": [],
   "source": [
    "df['selected'].value_counts()"
   ]
  },
  {
   "cell_type": "code",
   "execution_count": null,
   "metadata": {
    "collapsed": false
   },
   "outputs": [],
   "source": [
    "print(df['selected'].sum() / df.shape[0])"
   ]
  },
  {
   "cell_type": "code",
   "execution_count": null,
   "metadata": {
    "collapsed": true
   },
   "outputs": [],
   "source": [
    "df.to_csv('tagged.tsv', sep=\"\\t\", index=False)"
   ]
  }
 ],
 "metadata": {
  "anaconda-cloud": {},
  "kernelspec": {
   "display_name": "Python [default]",
   "language": "python",
   "name": "python3"
  },
  "language_info": {
   "codemirror_mode": {
    "name": "ipython",
    "version": 3
   },
   "file_extension": ".py",
   "mimetype": "text/x-python",
   "name": "python",
   "nbconvert_exporter": "python",
   "pygments_lexer": "ipython3",
   "version": "3.5.2"
  }
 },
 "nbformat": 4,
 "nbformat_minor": 1
}
